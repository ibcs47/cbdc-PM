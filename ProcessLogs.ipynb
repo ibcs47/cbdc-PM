{
 "cells": [
  {
   "cell_type": "code",
   "execution_count": 5,
   "metadata": {},
   "outputs": [],
   "source": [
    "import pm4py\n",
    "import json\n",
    "import pandas as pd\n",
    "import os\n",
    "import ast"
   ]
  },
  {
   "cell_type": "markdown",
   "metadata": {},
   "source": [
    "Event Gateway Log"
   ]
  },
  {
   "cell_type": "code",
   "execution_count": 6,
   "metadata": {},
   "outputs": [
    {
     "name": "stdout",
     "output_type": "stream",
     "text": [
      "[2022-9-17 13:30:52] eventName: UnitsUnlocked payload: {\"name\":\"UnitsUnlocked\",\"address\":\"0x1b18cf7b9bd974a9b2f2c4d5c0b1c2f69022dc2b\",\"amount\":10}\n",
      "[2022-9-17 16:33:50] eventName: UnitsTransferredFromPocket payload: {\"name\":\"UnitsTransferredFromPocket\",\"from\":\"0x1b18cf7b9bd974a9b2f2c4d5c0b1c2f69022dc2b\",\"to\":\"0xa48c6cc002b627954e1862620544e5613874676b\",\"amount\":5,\"pocket\":\"default\"}\n",
      "[2022-9-17 16:35:28] eventName: UnitsTransferredFromPocket payload: {\"name\":\"UnitsTransferredFromPocket\",\"from\":\"0x1b18cf7b9bd974a9b2f2c4d5c0b1c2f69022dc2b\",\"to\":\"0xa48c6cc002b627954e1862620544e5613874676b\",\"amount\":5,\"pocket\":\"default\"}\n",
      "[2022-9-26 23:6:12] eventName: UnitsTransferredFromPocket payload: {\"name\":\"UnitsTransferredFromPocket\",\"from\":\"0x1b18cf7b9bd974a9b2f2c4d5c0b1c2f69022dc2b\",\"to\":\"0xa48c6cc002b627954e1862620544e5613874676b\",\"amount\":5,\"pocket\":\"default\"}\n",
      "[2022-9-26 23:7:52] eventName: UnitsTransferredFromPocket payload: {\"name\":\"UnitsTransferredFromPocket\",\"from\":\"0x1b18cf7b9bd974a9b2f2c4d5c0\n"
     ]
    }
   ],
   "source": [
    "f = open(\"logsWithTime.txt\", \"r\")\n",
    "s = f.read()\n",
    "print(s[0:1000])"
   ]
  },
  {
   "cell_type": "code",
   "execution_count": 7,
   "metadata": {},
   "outputs": [],
   "source": [
    "l = list(filter(None, s.splitlines()))\n",
    "l2 = []\n",
    "for line in l:\n",
    "    le = line.split(\" \")\n",
    "    record = json.loads(le[5])\n",
    "    time = (le[0]+' '+le[1])[1:-1]\n",
    "    record.update({'timestamp':time})\n",
    "    l2.append(record)"
   ]
  },
  {
   "cell_type": "code",
   "execution_count": 8,
   "metadata": {},
   "outputs": [],
   "source": [
    "with open(\"eventLogsJSON.json\", \"w\") as outfile:\n",
    "    outfile.write(json.dumps({'values': l2}))"
   ]
  },
  {
   "cell_type": "markdown",
   "metadata": {},
   "source": [
    "Request Log"
   ]
  },
  {
   "cell_type": "code",
   "execution_count": 11,
   "metadata": {},
   "outputs": [
    {
     "name": "stdout",
     "output_type": "stream",
     "text": [
      "2022-11-28 11:55:18.404656 req 1 applyForGreenCbdc {\"address\": \"0x1b18cf7b9bd974a9b2f2c4d5c0b1c2f69022dc2b\", \"lockedUserAmount\": 5, \"requestedAmount\": 5, \"verifierDocUri\": \"string\"} \n",
      "2022-11-28 11:55:22.012316 res 1 applyForGreenCbdc {\"response\":\"successful green CBDC request\"} \n",
      "2022-11-28 11:55:30.930527 req 1 approveGreenCbdc {\"address\": \"0x1b18cf7b9bd974a9b2f2c4d5c0b1c2f69022dc2b\", \"deadlineInDays\": 3, \"totalPayout\": 10} \n",
      "2022-11-28 11:55:34.285546 res 1 approveGreenCbdc {\"response\":\"successful green CBDC request\"} \n",
      "2022-11-28 11:55:48.515879 req 1 nonce {\"address\": \"0x1b18cf7b9bd974a9b2f2c4d5c0b1c2f69022dc2b\"} \n",
      "2022-11-28 11:55:51.785504 res 1 nonce {\"response\":\"17\"} \n",
      "2022-11-28 11:56:39.709996 req 1 transferAsset {\"amount\": 10, \"from\": \"0x1b18cf7b9bd974a9b2f2c4d5c0b1c2f69022dc2b\", \"nonce\": 17, \"pocket\": \"green\", \"r\": \"VEJdXvHir4GQgd5+YySZxHQsLgV/G7uZHOUQlkZtyUA=\", \"s\": \"X90m0jfY/zHmSUg/5UIV99JhUee1sfmawCbhQUu/Q/8=\", \"to\": \"0xa48c6cc002b627954e1862620544e5613874676b\", \"v\": 27} \n",
      "2022-11-28 11:56:43.132776 res 1 transferAsset {\"response\":\"succesfull transfer\"} \n",
      "2022-11-28 12:18:36.706193 req 2 balance {\"address\": \"0x1b18cf7b9bd974a9b2f2c4d5c0b1c2f69022dc2b\"} \n",
      "2022-11-28 12:18:40.048572 res 2 balance {\"response\":\"920\"} \n",
      "2022-11-28 12:18:47.366072 req 2 nonce {\"address\": \"0x1b18cf7b9bd974a9b2f2c4d5c0b1c2f69022dc2b\"} \n",
      "2022-11-28 12:18:50.622119 res 2 nonce {\"response\":\"18\"} \n",
      "2022-11-28 12:20:25.060646 req 2 transferAsset {\"amount\": 5, \"from\": \"0x1b18cf7b9bd974a9b2f2c4d5c0b1c2f69022dc2b\", \"nonce\": 18, \"pocket\": \"default\", \"r\": \"giBkWTf66FwgemHeaWyHdibrpVKB3xt6Bxi7/AYSOU8=\", \"s\": \"IyhC9OrBqWPH0n054q98fEP8y10ivJ9afW9aqkmrx5Y=\", \"to\": \"0xa48c6cc002b627954e1862620544e5613874676b\", \"v\": 27} \n",
      "2022-11-28 12:20:29.159561 res 2 transferAsset {\"response\":\"succesfull transfer\"} \n",
      "2022-11-28 12:20:45.165845 req 3 connectivityTest {} \n",
      "2022-11-28 12:20:48.336300 res 3 connectivityTest {\"response\":\"ping done\"} \n",
      "2022-11-28 12:20:56.003395 req 3 balance {\"address\": \"0x1b18cf7b9bd974a9b2f2c4d5c0b1c2f69022dc2b\"} \n",
      "2022-11-28 12:20:59.237189 res 3 balance {\"response\":\"915\"} \n",
      "2022-11-28 12:21:30.013133 req 4 connectivityTest {} \n",
      "2022-11-28 12:21:33.207101 res 4 connectivityTest {\"response\":\"ping done\"} \n",
      "2022-11-28 12:21:35.397314 req 4 nonce {\"address\": \"0x1b18cf7b9bd974a9b2f2c4d5c0b1c2f69022dc2b\"} \n",
      "2022-11-28 12:21:38.592769 res 4 nonce {\"response\":\"19\"} \n",
      "2022-11-28 12:22:26.539935 req 5 transferAsset {\"amount\": 5, \"from\": \"0x1b18cf7b9bd974a9b2f2c4d5c0b1c2f69022dc2b\", \"nonce\": 18, \"pocket\": \"default\", \"r\": \"giBkWTf66FwgemHeaWyHdibrpVKB3xt6Bxi7/AYSOU8=\", \"s\": \"IyhC9OrBqWPH0n054q98fEP8y10ivJ9afW9aqkmrx5Y=\", \"to\": \"0xa48c6cc002b627954e1862620544e5613874676b\", \"v\": 27} \n",
      "2022-11-28 12:22:29.745914 res 5 transferAsset {\"response\":\"org.hyperledger.fabric.gateway.ContractException: No valid proposal responses received. 1 peer error responses: error in simulation: transaction returned with failure: Error: Transaction nonce already seen\"} \n",
      "2022-11-28 12:23:45.277477 req 6 applyForGreenCbdc {\"address\": \"0x1b18cf7b9bd974a9b2f2c4d5c0b1c2f69022dc2b\", \"lockedUserAmount\": 5, \"requestedAmount\": 5, \"verifierDocUri\": \"string\"} \n",
      "2022-11-28 12:23:48.726412 res 6 applyForGreenCbdc {\"response\":\"successful green CBDC request\"} \n",
      "2022-11-28 12:23:56.052213 req 6 unlockUnits {\"address\": \"0x1b18cf7b9bd974a9b2f2c4d5c0b1c2f69022dc2b\", \"amount\": 5} \n",
      "2022-11-28 12:23:59.924949 res 6 unlockUnits {\"response\":\"succesfull unlockUnit\"} \n",
      "2022-11-28 12:24:16.629567 req 7 approveGreenCbdc {\"address\": \"0x1b18cf7b9bd974a9b2f2c4d5c0b1c2f69022dc2b\", \"deadlineInDays\": 3, \"totalPayout\": 10} \n",
      "2022-11-28 12:24:20.012401 res 7 approveGreenCbdc {\"response\":\"successful green CBDC request\"} \n",
      "2022-11-28 12:30:52.813458 req 8 nonce {\"address\": \"0x1b18cf7b9bd974a9b2f2c4d5c0b1c2f69022dc2b\"} \n",
      "2022-11-28 12:30:56.751332 res 8 nonce {\"response\":\"19\"} \n",
      "2022-11-28 12:31:54.933201 req 8 transferAsset {\"amount\": 5, \"from\": \"0x1b18cf7b9bd974a9b2f2c4d5c0b1c2f69022dc2b\", \"nonce\": 19, \"pocket\": \"default\", \"r\": \"3Hdp48GtAMFLRy52iIStfo3D4GyidQUKiJMeifokMfE=\", \"s\": \"YaUIajAjrB1nqCzS71PNRhPRcsUUuG+fqggM6oqgCmc=\", \"to\": \"0xa48c6cc002b627954e1862620544e5613874676b\", \"v\": 28} \n",
      "2022-11-28 12:31:58.888234 res 8 transferAsset {\"response\":\"succesfull transfer\"} \n",
      "2022-11-28 12:32:11.820023 req 9 nonce {\"address\": \"0x1b18cf7b9bd974a9b2f2c4d5c0b1c2f69022dc2b\"} \n",
      "2022-11-28 12:32:15.029611 res 9 nonce {\"response\":\"20\"} \n",
      "2022-11-28 12:33:17.942773 req 9 transferAsset {\"amount\": 5, \"from\": \"0x1b18cf7b9bd974a9b2f2c4d5c0b1c2f69022dc2b\", \"nonce\": 20, \"pocket\": \"default\", \"r\": \"8OP49rLjsrduf/BBPmGWzk06XXs4fjRtw/1lnphqv0Q=\", \"s\": \"PzhtbfEoWbUPV+OPBLRF7UlMMeEQ1MhhoHDGooJlhnk=\", \"to\": \"0xa48c6cc002b627954e1862620544e5613874676b\", \"v\": 27} \n",
      "2022-11-28 12:33:21.363938 res 9 transferAsset {\"response\":\"succesfull transfer\"} \n",
      "\n"
     ]
    }
   ],
   "source": [
    "fr = open(\"reqs.txt\", \"r\")\n",
    "sr = fr.read()\n",
    "print(sr)"
   ]
  },
  {
   "cell_type": "code",
   "execution_count": 12,
   "metadata": {},
   "outputs": [],
   "source": [
    "lr = list(filter(None, sr.splitlines()))\n",
    "l2r = []\n",
    "for line in lr:\n",
    "    le = line.split(\" \")[:-1]\n",
    "    time = (le[0]+' '+le[1])#[1:-1]\n",
    "    rr = le[2]\n",
    "    name = le[4]\n",
    "    cid = le[3]\n",
    "    s1 = ' '.join(le[5:])\n",
    "    s4 = ast.literal_eval(json.dumps(s1))\n",
    "    record = json.loads(s4)\n",
    "    record.update({'time':time, 'rr':rr, 'name':name, 'case_id': cid})\n",
    "    l2r.append(record)"
   ]
  },
  {
   "cell_type": "code",
   "execution_count": 13,
   "metadata": {},
   "outputs": [],
   "source": [
    "with open(\"ReqLogsJSON.json\", \"w\") as outfile:\n",
    "    outfile.write(json.dumps({'values': l2r}))"
   ]
  },
  {
   "cell_type": "code",
   "execution_count": null,
   "metadata": {},
   "outputs": [],
   "source": [
    "#lr = list(filter(None, sr.splitlines()))\n",
    "#line = lr[0]\n",
    "#print(line)\n",
    "#le = line.split(\" \")[:-1]\n",
    "#print(le)\n",
    "#time = (le[0]+' '+le[1])#[1:-1]\n",
    "#rr = le[2]\n",
    "#name = le[3]\n",
    "#s1 = ' '.join(le[4:])\n",
    "#s4 = ast.literal_eval(json.dumps(s1))\n",
    "#s5 = json.loads(s4)\n",
    "#record = s5\n",
    "#record.update({'time':time, 'rr':rr, 'name':name})\n",
    "#record\n"
   ]
  },
  {
   "cell_type": "code",
   "execution_count": null,
   "metadata": {},
   "outputs": [],
   "source": []
  }
 ],
 "metadata": {
  "kernelspec": {
   "display_name": "Python 3",
   "language": "python",
   "name": "python3"
  },
  "language_info": {
   "codemirror_mode": {
    "name": "ipython",
    "version": 3
   },
   "file_extension": ".py",
   "mimetype": "text/x-python",
   "name": "python",
   "nbconvert_exporter": "python",
   "pygments_lexer": "ipython3",
   "version": "3.8.5"
  }
 },
 "nbformat": 4,
 "nbformat_minor": 4
}
