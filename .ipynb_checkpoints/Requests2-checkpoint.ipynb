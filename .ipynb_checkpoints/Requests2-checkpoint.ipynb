{
 "cells": [
  {
   "cell_type": "code",
   "execution_count": 1,
   "metadata": {},
   "outputs": [],
   "source": [
    "import requests\n",
    "import datetime\n",
    "import json"
   ]
  },
  {
   "cell_type": "code",
   "execution_count": 31,
   "metadata": {},
   "outputs": [],
   "source": [
    "def log(req_res, op, cid, text):\n",
    "    file1 = open(\"reqs2.txt\", \"a\")\n",
    "    rr = 'req' if req_res else 'res'\n",
    "    file1.write(str(datetime.datetime.now()) + ' ' + rr + ' ' + str(cid) + ' ' + op + ' ' + str(text) + ' \\n')\n",
    "    file1.close()"
   ]
  },
  {
   "cell_type": "code",
   "execution_count": 3,
   "metadata": {},
   "outputs": [],
   "source": [
    "def getReq(op, cid, ploads):\n",
    "    log(True, op, cid, json.dumps(ploads))\n",
    "    r =requests.get('http://vm.niif.cloud.bme.hu:9200/' + op, params=ploads)\n",
    "    log(False, op, cid, r.text)\n",
    "    return r"
   ]
  },
  {
   "cell_type": "code",
   "execution_count": 4,
   "metadata": {},
   "outputs": [],
   "source": [
    "def postReq(op, cid, ploads):\n",
    "    headers = {'Content-type': 'application/json', 'Accept': 'application/json'}\n",
    "    log(True, op, cid, json.dumps(ploads))\n",
    "    r =requests.post('http://vm.niif.cloud.bme.hu:9200/' + op, json = ploads, headers=headers)\n",
    "    log(False, op, cid, r.text)\n",
    "    return r"
   ]
  },
  {
   "cell_type": "code",
   "execution_count": 35,
   "metadata": {},
   "outputs": [],
   "source": [
    "f = open(\"intents.csv\", \"r\")\n",
    "s = f.read()\n",
    "lines = s.splitlines()"
   ]
  },
  {
   "cell_type": "code",
   "execution_count": 24,
   "metadata": {},
   "outputs": [],
   "source": [
    "def nonce(case, params):\n",
    "    address = params\n",
    "    ploads = {\"address\": address}\n",
    "    return getReq(\"nonce\", case, ploads).text"
   ]
  },
  {
   "cell_type": "code",
   "execution_count": 33,
   "metadata": {},
   "outputs": [],
   "source": [
    "def balance(case, params):\n",
    "    address = params\n",
    "    ploads = {\"address\": address}\n",
    "    getReq(\"balance\", case, ploads).text"
   ]
  },
  {
   "cell_type": "code",
   "execution_count": 26,
   "metadata": {},
   "outputs": [],
   "source": [
    "def transferAsset(case, params):\n",
    "    amount, frm, to, nonce, pocket, sign = params\n",
    "    ploads = {\n",
    "        \"amount\": amount,\n",
    "        \"from\": frm,\n",
    "        \"nonce\": nonce,\n",
    "        \"pocket\": pocket,\n",
    "        \"r\": sign[0],\n",
    "        \"s\": sign[1],\n",
    "        \"to\": to,\n",
    "        \"v\": sign[2]\n",
    "    }\n",
    "    postReq('transferAsset', case, ploads).text"
   ]
  },
  {
   "cell_type": "code",
   "execution_count": 27,
   "metadata": {},
   "outputs": [],
   "source": [
    "def applyForGreenCbdc(case, params):\n",
    "    address, amount, ver = params\n",
    "    ploads = {\n",
    "        \"address\": address,\n",
    "        \"lockedUserAmount\": amount,\n",
    "        \"requestedAmount\": amount,\n",
    "        \"verifierDocUri\": ver\n",
    "    }\n",
    "    postReq('applyForGreenCbdc', case, ploads).text"
   ]
  },
  {
   "cell_type": "code",
   "execution_count": 28,
   "metadata": {},
   "outputs": [],
   "source": [
    "def approveGreenCbdc(case, params):\n",
    "    address, deadline, total = params\n",
    "    ploads = {\n",
    "        \"address\": address,\n",
    "        \"deadlineInDays\": deadline,\n",
    "        \"totalPayout\": total\n",
    "    }\n",
    "    postReq('approveGreenCbdc', case, ploads).text"
   ]
  },
  {
   "cell_type": "code",
   "execution_count": 29,
   "metadata": {},
   "outputs": [],
   "source": [
    "def unlockUnits(case, params):\n",
    "    address, amount = params\n",
    "    ploads = {\n",
    "        \"address\": address,\n",
    "        \"amount\": amount\n",
    "    }\n",
    "    postReq('unlockUnits', case, ploads).text"
   ]
  },
  {
   "cell_type": "code",
   "execution_count": 36,
   "metadata": {},
   "outputs": [],
   "source": [
    "for line in lines:\n",
    "    l = line.split(\"\\t\")\n",
    "    case = l[0]\n",
    "    method = l[1]\n",
    "    params = l[2:]\n",
    "    locals()[method](case, params)"
   ]
  },
  {
   "cell_type": "code",
   "execution_count": null,
   "metadata": {},
   "outputs": [],
   "source": []
  }
 ],
 "metadata": {
  "kernelspec": {
   "display_name": "Python 3",
   "language": "python",
   "name": "python3"
  },
  "language_info": {
   "codemirror_mode": {
    "name": "ipython",
    "version": 3
   },
   "file_extension": ".py",
   "mimetype": "text/x-python",
   "name": "python",
   "nbconvert_exporter": "python",
   "pygments_lexer": "ipython3",
   "version": "3.8.5"
  }
 },
 "nbformat": 4,
 "nbformat_minor": 4
}
