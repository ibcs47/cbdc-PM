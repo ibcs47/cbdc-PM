{
 "cells": [
  {
   "cell_type": "code",
   "execution_count": 1,
   "metadata": {},
   "outputs": [],
   "source": [
    "import pm4py\n",
    "import json\n",
    "import pandas as pd"
   ]
  },
  {
   "cell_type": "code",
   "execution_count": 2,
   "metadata": {},
   "outputs": [
    {
     "name": "stdout",
     "output_type": "stream",
     "text": [
      "[2022-9-17 13:30:52] eventName: UnitsUnlocked payload: {\"name\":\"UnitsUnlocked\",\"address\":\"0x1b18cf7b9bd974a9b2f2c4d5c0b1c2f69022dc2b\",\"amount\":10}\n",
      "[2022-9-17 16:33:50] eventName: UnitsTransferredFromPocket payload: {\"name\":\"UnitsTransferredFromPocket\",\"from\":\"0x1b18cf7b9bd974a9b2f2c4d5c0b1c2f69022dc2b\",\"to\":\"0xa48c6cc002b627954e1862620544e5613874676b\",\"amount\":5,\"pocket\":\"default\"}\n",
      "[2022-9-17 16:35:28] eventName: UnitsTransferredFromPocket payload: {\"name\":\"UnitsTransferredFromPocket\",\"from\":\"0x1b18cf7b9bd974a9b2f2c4d5c0b1c2f69022dc2b\",\"to\":\"0xa48c6cc002b627954e1862620544e5613874676b\",\"amount\":5,\"pocket\":\"default\"}\n",
      "[2022-9-26 23:6:12] eventName: UnitsTransferredFromPocket payload: {\"name\":\"UnitsTransferredFromPocket\",\"from\":\"0x1b18cf7b9bd974a9b2f2c4d5c0b1c2f69022dc2b\",\"to\":\"0xa48c6cc002b627954e1862620544e5613874676b\",\"amount\":5,\"pocket\":\"default\"}\n",
      "[2022-9-26 23:7:52] eventName: UnitsTransferredFromPocket payload: {\"name\":\"UnitsTransferredFromPocket\",\"from\":\"0x1b18cf7b9bd974a9b2f2c4d5c0b1c2f69022dc2b\",\"to\":\"0xa48c6cc002b627954e1862620544e5613874676b\",\"amount\":5,\"pocket\":\"default\"}\n",
      "[2022-9-26 23:10:15] eventName: UnitsTransferredFromPocket payload: {\"name\":\"UnitsTransferredFromPocket\",\"from\":\"0xa48c6cc002b627954e1862620544e5613874676b\",\"to\":\"0x1b18cf7b9bd974a9b2f2c4d5c0b1c2f69022dc2b\",\"amount\":5,\"pocket\":\"default\"}\n",
      "[2022-9-26 23:15:56] eventName: GreenCbdcApplied payload: {\"name\":\"GreenCbdcApplied\",\"address\":\"0x1b18cf7b9bd974a9b2f2c4d5c0b1c2f69022dc2b\",\"lockedUserAmount\":5,\"requestedAmount\":5}\n",
      "[2022-9-26 23:17:11] eventName: GreenCbdcApproved payload: {\"name\":\"GreenCbdcApproved\",\"address\":\"0x1b18cf7b9bd974a9b2f2c4d5c0b1c2f69022dc2b\",\"totalPayout\":10,\"deadlineInDays\":3}\n",
      "\n",
      "\n"
     ]
    }
   ],
   "source": [
    "f = open(\"logsWithTime.txt\", \"r\")\n",
    "s = f.read()\n",
    "print(s)"
   ]
  },
  {
   "cell_type": "code",
   "execution_count": 3,
   "metadata": {},
   "outputs": [],
   "source": [
    "l = list(filter(None, s.splitlines()))\n",
    "l2 = []\n",
    "for line in l:\n",
    "    le = line.split(\" \")\n",
    "    record = json.loads(le[5])\n",
    "    time = (le[0]+' '+le[1])[1:-1]\n",
    "    record.update({'timestamp':time})\n",
    "    l2.append(record)"
   ]
  },
  {
   "cell_type": "code",
   "execution_count": 4,
   "metadata": {},
   "outputs": [],
   "source": [
    "with open(\"logsJSON.json\", \"w\") as outfile:\n",
    "    outfile.write(json.dumps({'values': l2}))"
   ]
  },
  {
   "cell_type": "code",
   "execution_count": null,
   "metadata": {},
   "outputs": [],
   "source": []
  }
 ],
 "metadata": {
  "kernelspec": {
   "display_name": "Python 3",
   "language": "python",
   "name": "python3"
  },
  "language_info": {
   "codemirror_mode": {
    "name": "ipython",
    "version": 3
   },
   "file_extension": ".py",
   "mimetype": "text/x-python",
   "name": "python",
   "nbconvert_exporter": "python",
   "pygments_lexer": "ipython3",
   "version": "3.8.5"
  }
 },
 "nbformat": 4,
 "nbformat_minor": 4
}
