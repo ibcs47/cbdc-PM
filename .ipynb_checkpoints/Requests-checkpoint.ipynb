{
 "cells": [
  {
   "cell_type": "code",
   "execution_count": 3,
   "metadata": {},
   "outputs": [],
   "source": [
    "import requests\n",
    "import datetime\n",
    "import json"
   ]
  },
  {
   "cell_type": "code",
   "execution_count": 4,
   "metadata": {},
   "outputs": [],
   "source": [
    "def log(req_res, op, cid, text):\n",
    "    file1 = open(\"reqs.txt\", \"a\")\n",
    "    rr = 'req' if req_res else 'res'\n",
    "    file1.write(str(datetime.datetime.now()) + ' ' + rr + ' ' + str(cid) + ' ' + op + ' ' + str(text) + ' \\n')\n",
    "    file1.close()"
   ]
  },
  {
   "cell_type": "code",
   "execution_count": 5,
   "metadata": {},
   "outputs": [],
   "source": [
    "def getReq(op, cid, ploads):\n",
    "    log(True, op, cid, json.dumps(ploads))\n",
    "    r =requests.get('http://vm.niif.cloud.bme.hu:9200/' + op, params=ploads)\n",
    "    log(False, op, cid, r.text)\n",
    "    return r"
   ]
  },
  {
   "cell_type": "code",
   "execution_count": 6,
   "metadata": {},
   "outputs": [],
   "source": [
    "def postReq(op, cid, ploads):\n",
    "    headers = {'Content-type': 'application/json', 'Accept': 'application/json'}\n",
    "    log(True, op, cid, json.dumps(ploads))\n",
    "    r =requests.post('http://vm.niif.cloud.bme.hu:9200/' + op, json = ploads, headers=headers)\n",
    "    log(False, op, cid, r.text)\n",
    "    return r"
   ]
  },
  {
   "cell_type": "code",
   "execution_count": 30,
   "metadata": {},
   "outputs": [],
   "source": [
    "case = 10"
   ]
  },
  {
   "cell_type": "markdown",
   "metadata": {},
   "source": [
    "Nonce"
   ]
  },
  {
   "cell_type": "code",
   "execution_count": 32,
   "metadata": {},
   "outputs": [
    {
     "data": {
      "text/plain": [
       "'{\"response\":\"21\"}'"
      ]
     },
     "execution_count": 32,
     "metadata": {},
     "output_type": "execute_result"
    }
   ],
   "source": [
    "ploads = {\"address\":\"0x1b18cf7b9bd974a9b2f2c4d5c0b1c2f69022dc2b\"}\n",
    "getReq(\"nonce\", case, ploads).text"
   ]
  },
  {
   "cell_type": "markdown",
   "metadata": {},
   "source": [
    "ConnectivityTest"
   ]
  },
  {
   "cell_type": "code",
   "execution_count": 15,
   "metadata": {},
   "outputs": [
    {
     "data": {
      "text/plain": [
       "'{\"response\":\"ping done\"}'"
      ]
     },
     "execution_count": 15,
     "metadata": {},
     "output_type": "execute_result"
    }
   ],
   "source": [
    "ploads = {}\n",
    "getReq(\"connectivityTest\", case, ploads).text"
   ]
  },
  {
   "cell_type": "markdown",
   "metadata": {},
   "source": [
    "GetBalance"
   ]
  },
  {
   "cell_type": "code",
   "execution_count": 34,
   "metadata": {},
   "outputs": [
    {
     "data": {
      "text/plain": [
       "'{\"response\":\"900\"}'"
      ]
     },
     "execution_count": 34,
     "metadata": {},
     "output_type": "execute_result"
    }
   ],
   "source": [
    "ploads = {\"address\":\"0x1b18cf7b9bd974a9b2f2c4d5c0b1c2f69022dc2b\"}\n",
    "getReq(\"balance\", case, ploads).text"
   ]
  },
  {
   "cell_type": "markdown",
   "metadata": {},
   "source": [
    "TransferAsset"
   ]
  },
  {
   "cell_type": "code",
   "execution_count": 33,
   "metadata": {},
   "outputs": [
    {
     "data": {
      "text/plain": [
       "'{\"response\":\"succesfull transfer\"}'"
      ]
     },
     "execution_count": 33,
     "metadata": {},
     "output_type": "execute_result"
    }
   ],
   "source": [
    "ploads = {\n",
    "    \"amount\": 5,\n",
    "    \"from\": \"0x1b18cf7b9bd974a9b2f2c4d5c0b1c2f69022dc2b\",\n",
    "    \"nonce\": 21,\n",
    "    \"pocket\": \"default\",\n",
    "    \"r\": \"F+ZFLOoxeyYzwlglTHgDO9thxBszJ6gmaPLFgYrFX0U=\",\n",
    "    \"s\": \"D8fujVQFmV7dm6gHQ64tKxnwZW/xf2OaO8vsYg+8N+A=\",\n",
    "    \"to\": \"0xa48c6cc002b627954e1862620544e5613874676b\",\n",
    "    \"v\": 27\n",
    "}\n",
    "postReq('transferAsset', case, ploads).text"
   ]
  },
  {
   "cell_type": "markdown",
   "metadata": {},
   "source": [
    "ApplyForGreenCbdc"
   ]
  },
  {
   "cell_type": "code",
   "execution_count": 20,
   "metadata": {},
   "outputs": [
    {
     "data": {
      "text/plain": [
       "'{\"response\":\"successful green CBDC request\"}'"
      ]
     },
     "execution_count": 20,
     "metadata": {},
     "output_type": "execute_result"
    }
   ],
   "source": [
    "ploads = {\n",
    "    \"address\": \"0x1b18cf7b9bd974a9b2f2c4d5c0b1c2f69022dc2b\",\n",
    "    \"lockedUserAmount\": 5,\n",
    "    \"requestedAmount\": 5,\n",
    "    \"verifierDocUri\": \"string\"\n",
    "}\n",
    "postReq('applyForGreenCbdc', case, ploads).text"
   ]
  },
  {
   "cell_type": "markdown",
   "metadata": {},
   "source": [
    "Approve"
   ]
  },
  {
   "cell_type": "code",
   "execution_count": 23,
   "metadata": {},
   "outputs": [
    {
     "data": {
      "text/plain": [
       "'{\"response\":\"successful green CBDC request\"}'"
      ]
     },
     "execution_count": 23,
     "metadata": {},
     "output_type": "execute_result"
    }
   ],
   "source": [
    "ploads = {\n",
    "    \"address\": \"0x1b18cf7b9bd974a9b2f2c4d5c0b1c2f69022dc2b\",\n",
    "    \"deadlineInDays\": 3,\n",
    "    \"totalPayout\": 10\n",
    "}\n",
    "postReq('approveGreenCbdc', case, ploads).text"
   ]
  },
  {
   "cell_type": "markdown",
   "metadata": {},
   "source": [
    "Unlock"
   ]
  },
  {
   "cell_type": "code",
   "execution_count": 21,
   "metadata": {},
   "outputs": [
    {
     "data": {
      "text/plain": [
       "'{\"response\":\"succesfull unlockUnit\"}'"
      ]
     },
     "execution_count": 21,
     "metadata": {},
     "output_type": "execute_result"
    }
   ],
   "source": [
    "ploads = {\n",
    "    \"address\": \"0x1b18cf7b9bd974a9b2f2c4d5c0b1c2f69022dc2b\",\n",
    "    \"amount\": 5\n",
    "}\n",
    "postReq('unlockUnits', case, ploads).text"
   ]
  },
  {
   "cell_type": "code",
   "execution_count": null,
   "metadata": {},
   "outputs": [],
   "source": []
  }
 ],
 "metadata": {
  "kernelspec": {
   "display_name": "Python 3",
   "language": "python",
   "name": "python3"
  },
  "language_info": {
   "codemirror_mode": {
    "name": "ipython",
    "version": 3
   },
   "file_extension": ".py",
   "mimetype": "text/x-python",
   "name": "python",
   "nbconvert_exporter": "python",
   "pygments_lexer": "ipython3",
   "version": "3.8.5"
  }
 },
 "nbformat": 4,
 "nbformat_minor": 4
}
